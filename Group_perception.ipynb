{
 "cells": [
  {
   "cell_type": "code",
   "execution_count": 66,
   "metadata": {},
   "outputs": [],
   "source": [
    "import pandas as pd\n",
    "import numpy as np\n",
    "import altair as alt"
   ]
  },
  {
   "cell_type": "code",
   "execution_count": 67,
   "metadata": {},
   "outputs": [],
   "source": [
    "part_survey    =  pd.read_csv(\"assets/Atts_agroconcept_survey.csv\", sep=';')\n",
    "nonpart_survey = pd.read_csv(\"assets/Atts_nonpart_survey.csv\", sep=';')"
   ]
  },
  {
   "cell_type": "code",
   "execution_count": 68,
   "metadata": {},
   "outputs": [],
   "source": [
    "# Variables relevant to perception of the farmers regarding the climate change, \n",
    "perceps = ['percep_hail','percep_drought','percep_frost', 'percep_heavyrain', 'percep_longrain', 'percep_heat']"
   ]
  },
  {
   "cell_type": "code",
   "execution_count": 69,
   "metadata": {},
   "outputs": [
    {
     "data": {
      "text/html": [
       "<div>\n",
       "<style scoped>\n",
       "    .dataframe tbody tr th:only-of-type {\n",
       "        vertical-align: middle;\n",
       "    }\n",
       "\n",
       "    .dataframe tbody tr th {\n",
       "        vertical-align: top;\n",
       "    }\n",
       "\n",
       "    .dataframe thead th {\n",
       "        text-align: right;\n",
       "    }\n",
       "</style>\n",
       "<table border=\"1\" class=\"dataframe\">\n",
       "  <thead>\n",
       "    <tr style=\"text-align: right;\">\n",
       "      <th></th>\n",
       "      <th>Perception_variable</th>\n",
       "      <th>non_particpant</th>\n",
       "      <th>particpant</th>\n",
       "    </tr>\n",
       "  </thead>\n",
       "  <tbody>\n",
       "    <tr>\n",
       "      <td>0</td>\n",
       "      <td>percep_hail</td>\n",
       "      <td>1.409091</td>\n",
       "      <td>1.541667</td>\n",
       "    </tr>\n",
       "    <tr>\n",
       "      <td>1</td>\n",
       "      <td>percep_drought</td>\n",
       "      <td>2.090909</td>\n",
       "      <td>2.333333</td>\n",
       "    </tr>\n",
       "    <tr>\n",
       "      <td>2</td>\n",
       "      <td>percep_frost</td>\n",
       "      <td>1.636364</td>\n",
       "      <td>1.708333</td>\n",
       "    </tr>\n",
       "    <tr>\n",
       "      <td>3</td>\n",
       "      <td>percep_heavyrain</td>\n",
       "      <td>1.636364</td>\n",
       "      <td>1.958333</td>\n",
       "    </tr>\n",
       "    <tr>\n",
       "      <td>4</td>\n",
       "      <td>percep_longrain</td>\n",
       "      <td>1.772727</td>\n",
       "      <td>1.666667</td>\n",
       "    </tr>\n",
       "    <tr>\n",
       "      <td>5</td>\n",
       "      <td>percep_heat</td>\n",
       "      <td>2.090909</td>\n",
       "      <td>2.208333</td>\n",
       "    </tr>\n",
       "  </tbody>\n",
       "</table>\n",
       "</div>"
      ],
      "text/plain": [
       "  Perception_variable  non_particpant  particpant\n",
       "0         percep_hail        1.409091    1.541667\n",
       "1      percep_drought        2.090909    2.333333\n",
       "2        percep_frost        1.636364    1.708333\n",
       "3    percep_heavyrain        1.636364    1.958333\n",
       "4     percep_longrain        1.772727    1.666667\n",
       "5         percep_heat        2.090909    2.208333"
      ]
     },
     "execution_count": 69,
     "metadata": {},
     "output_type": "execute_result"
    }
   ],
   "source": [
    "# Compute the average value of perception for each of the variable mentioned above, and generates dataframe that have two \n",
    "# columns, corresponding to farmers who particpated and who do not particpated in the survey. Where each row represents the \n",
    "# variable corresponding to perception related to climate\n",
    "\n",
    "plot_df = pd.concat([nonpart_survey[perceps].dropna().mean(), part_survey[perceps].dropna().mean()], axis = 1)\n",
    "\n",
    "plot_df = plot_df.rename(columns = {0:'non_particpant', 1 : 'particpant'})\n",
    "\n",
    "plot_df = plot_df.reset_index()\n",
    "plot_df = plot_df.rename(columns={'index':'Perception_variable'})\n",
    "\n",
    "plot_df"
   ]
  },
  {
   "cell_type": "code",
   "execution_count": 70,
   "metadata": {},
   "outputs": [],
   "source": [
    "plot_df = pd.melt(plot_df, id_vars = ['Perception_variable'], value_vars = ['non_particpant','particpant'], \n",
    "        var_name = 'Status of Particpation', value_name = 'Value' )"
   ]
  },
  {
   "cell_type": "code",
   "execution_count": 85,
   "metadata": {},
   "outputs": [
    {
     "data": {
      "text/html": [
       "\n",
       "<div id=\"altair-viz-2444de0cf9f046d79eb2a512ac2bec23\"></div>\n",
       "<script type=\"text/javascript\">\n",
       "  var VEGA_DEBUG = (typeof VEGA_DEBUG == \"undefined\") ? {} : VEGA_DEBUG;\n",
       "  (function(spec, embedOpt){\n",
       "    let outputDiv = document.currentScript.previousElementSibling;\n",
       "    if (outputDiv.id !== \"altair-viz-2444de0cf9f046d79eb2a512ac2bec23\") {\n",
       "      outputDiv = document.getElementById(\"altair-viz-2444de0cf9f046d79eb2a512ac2bec23\");\n",
       "    }\n",
       "    const paths = {\n",
       "      \"vega\": \"https://cdn.jsdelivr.net/npm//vega@5?noext\",\n",
       "      \"vega-lib\": \"https://cdn.jsdelivr.net/npm//vega-lib?noext\",\n",
       "      \"vega-lite\": \"https://cdn.jsdelivr.net/npm//vega-lite@4.17.0?noext\",\n",
       "      \"vega-embed\": \"https://cdn.jsdelivr.net/npm//vega-embed@6?noext\",\n",
       "    };\n",
       "\n",
       "    function maybeLoadScript(lib, version) {\n",
       "      var key = `${lib.replace(\"-\", \"\")}_version`;\n",
       "      return (VEGA_DEBUG[key] == version) ?\n",
       "        Promise.resolve(paths[lib]) :\n",
       "        new Promise(function(resolve, reject) {\n",
       "          var s = document.createElement('script');\n",
       "          document.getElementsByTagName(\"head\")[0].appendChild(s);\n",
       "          s.async = true;\n",
       "          s.onload = () => {\n",
       "            VEGA_DEBUG[key] = version;\n",
       "            return resolve(paths[lib]);\n",
       "          };\n",
       "          s.onerror = () => reject(`Error loading script: ${paths[lib]}`);\n",
       "          s.src = paths[lib];\n",
       "        });\n",
       "    }\n",
       "\n",
       "    function showError(err) {\n",
       "      outputDiv.innerHTML = `<div class=\"error\" style=\"color:red;\">${err}</div>`;\n",
       "      throw err;\n",
       "    }\n",
       "\n",
       "    function displayChart(vegaEmbed) {\n",
       "      vegaEmbed(outputDiv, spec, embedOpt)\n",
       "        .catch(err => showError(`Javascript Error: ${err.message}<br>This usually means there's a typo in your chart specification. See the javascript console for the full traceback.`));\n",
       "    }\n",
       "\n",
       "    if(typeof define === \"function\" && define.amd) {\n",
       "      requirejs.config({paths});\n",
       "      require([\"vega-embed\"], displayChart, err => showError(`Error loading script: ${err.message}`));\n",
       "    } else {\n",
       "      maybeLoadScript(\"vega\", \"5\")\n",
       "        .then(() => maybeLoadScript(\"vega-lite\", \"4.17.0\"))\n",
       "        .then(() => maybeLoadScript(\"vega-embed\", \"6\"))\n",
       "        .catch(showError)\n",
       "        .then(() => displayChart(vegaEmbed));\n",
       "    }\n",
       "  })({\"config\": {\"view\": {\"continuousWidth\": 400, \"continuousHeight\": 300}, \"axis\": {\"labelFontSize\": 12, \"titleFontSize\": 16}}, \"data\": {\"name\": \"data-468569c90c4ef17114ae56f0f22187a5\"}, \"mark\": \"bar\", \"encoding\": {\"color\": {\"field\": \"Status of Particpation\", \"type\": \"nominal\"}, \"column\": {\"field\": \"Perception_variable\", \"header\": {\"labelFontSize\": 12, \"titleFontSize\": 12}, \"spacing\": 60, \"type\": \"nominal\"}, \"x\": {\"field\": \"Status of Particpation\", \"title\": null, \"type\": \"ordinal\"}, \"y\": {\"field\": \"Value\", \"type\": \"quantitative\"}}, \"$schema\": \"https://vega.github.io/schema/vega-lite/v4.17.0.json\", \"datasets\": {\"data-468569c90c4ef17114ae56f0f22187a5\": [{\"Perception_variable\": \"percep_hail\", \"Status of Particpation\": \"non_particpant\", \"Value\": 1.4090909090909092}, {\"Perception_variable\": \"percep_drought\", \"Status of Particpation\": \"non_particpant\", \"Value\": 2.090909090909091}, {\"Perception_variable\": \"percep_frost\", \"Status of Particpation\": \"non_particpant\", \"Value\": 1.6363636363636365}, {\"Perception_variable\": \"percep_heavyrain\", \"Status of Particpation\": \"non_particpant\", \"Value\": 1.6363636363636365}, {\"Perception_variable\": \"percep_longrain\", \"Status of Particpation\": \"non_particpant\", \"Value\": 1.7727272727272727}, {\"Perception_variable\": \"percep_heat\", \"Status of Particpation\": \"non_particpant\", \"Value\": 2.090909090909091}, {\"Perception_variable\": \"percep_hail\", \"Status of Particpation\": \"particpant\", \"Value\": 1.5416666666666667}, {\"Perception_variable\": \"percep_drought\", \"Status of Particpation\": \"particpant\", \"Value\": 2.3333333333333335}, {\"Perception_variable\": \"percep_frost\", \"Status of Particpation\": \"particpant\", \"Value\": 1.7083333333333333}, {\"Perception_variable\": \"percep_heavyrain\", \"Status of Particpation\": \"particpant\", \"Value\": 1.9583333333333333}, {\"Perception_variable\": \"percep_longrain\", \"Status of Particpation\": \"particpant\", \"Value\": 1.6666666666666667}, {\"Perception_variable\": \"percep_heat\", \"Status of Particpation\": \"particpant\", \"Value\": 2.2083333333333335}]}}, {\"mode\": \"vega-lite\"});\n",
       "</script>"
      ],
      "text/plain": [
       "alt.Chart(...)"
      ]
     },
     "execution_count": 85,
     "metadata": {},
     "output_type": "execute_result"
    }
   ],
   "source": [
    "alt.Chart(plot_df).mark_bar().encode(\n",
    "    x = alt.X('Status of Particpation:O', title = None),\n",
    "    y =  'Value:Q',\n",
    "    color = 'Status of Particpation:N',\n",
    "    column = alt.Column('Perception_variable:N', spacing = 60,\n",
    "                        header=alt.Header(labelFontSize = 12, titleFontSize=12))\n",
    ").configure_axis(labelFontSize=12, titleFontSize = 16)"
   ]
  }
 ],
 "metadata": {
  "kernelspec": {
   "display_name": "Python 3",
   "language": "python",
   "name": "python3"
  },
  "language_info": {
   "codemirror_mode": {
    "name": "ipython",
    "version": 3
   },
   "file_extension": ".py",
   "mimetype": "text/x-python",
   "name": "python",
   "nbconvert_exporter": "python",
   "pygments_lexer": "ipython3",
   "version": "3.7.4"
  }
 },
 "nbformat": 4,
 "nbformat_minor": 5
}
