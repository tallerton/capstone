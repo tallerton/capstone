{
 "cells": [
  {
   "cell_type": "code",
   "execution_count": 1,
   "id": "3fe6a9b0",
   "metadata": {},
   "outputs": [],
   "source": [
    "import pandas as pd\n",
    "import numpy as np\n",
    "from sklearn.impute import SimpleImputer"
   ]
  },
  {
   "cell_type": "code",
   "execution_count": 2,
   "id": "e6d5b4b4",
   "metadata": {},
   "outputs": [
    {
     "name": "stdout",
     "output_type": "stream",
     "text": [
      "{'mainprodcution', 'co22011', 'reducpercent', 'co22018', 'co22015'}\n",
      "set()\n"
     ]
    }
   ],
   "source": [
    "# check to see which dataset has additional/missing features\n",
    "A = set(pd.read_csv(\"assets/Atts_agroconcept_survey.csv\", sep=';').columns.values.tolist())\n",
    "B = set(pd.read_csv(\"assets/Atts_nonpart_survey.csv\", sep=';').columns.values.tolist())\n",
    "print(A-B)\n",
    "print(B-A)\n",
    "del A, B"
   ]
  },
  {
   "cell_type": "code",
   "execution_count": 3,
   "id": "bcc802d5",
   "metadata": {},
   "outputs": [],
   "source": [
    "# load the survey data\n",
    "df = pd.concat([pd.read_csv(\"assets/Atts_agroconcept_survey.csv\", sep=';'),\n",
    "                pd.read_csv(\"assets/Atts_nonpart_survey.csv\", sep=';')])"
   ]
  },
  {
   "cell_type": "code",
   "execution_count": 4,
   "id": "cea786ef",
   "metadata": {},
   "outputs": [
    {
     "name": "stdout",
     "output_type": "stream",
     "text": [
      "113 212\n"
     ]
    }
   ],
   "source": [
    "# get indexs for columns\n",
    "print(df.columns.get_loc('net_name1_neigh'), df.columns.get_loc('net_name10_imp'))"
   ]
  },
  {
   "cell_type": "code",
   "execution_count": 5,
   "id": "63a037bd",
   "metadata": {},
   "outputs": [],
   "source": [
    "# this is old network data which can be dropped\n",
    "df.drop(df.iloc[:, 113:213], inplace=True, axis=1)"
   ]
  },
  {
   "cell_type": "code",
   "execution_count": 6,
   "id": "e5a1bc95",
   "metadata": {},
   "outputs": [
    {
     "name": "stdout",
     "output_type": "stream",
     "text": [
      "124 131\n"
     ]
    }
   ],
   "source": [
    "# get indexs for columns\n",
    "print(df.columns.get_loc('info_gew'), df.columns.get_loc('mainprodcution'))"
   ]
  },
  {
   "cell_type": "code",
   "execution_count": 7,
   "id": "fe14f300",
   "metadata": {},
   "outputs": [],
   "source": [
    "# these columns are only relevant for conference attendees so cannot be regressed on\n",
    "df.drop(df.iloc[:, 124:132], inplace=True, axis=1)"
   ]
  },
  {
   "cell_type": "code",
   "execution_count": 8,
   "id": "bdf848c9",
   "metadata": {},
   "outputs": [],
   "source": [
    "# I compute a new network metrics based on the new network data so this degree metric is not needed  \n",
    "df.drop('network', inplace=True, axis=1)"
   ]
  },
  {
   "cell_type": "code",
   "execution_count": 9,
   "id": "621f9c8a",
   "metadata": {},
   "outputs": [
    {
     "name": "stdout",
     "output_type": "stream",
     "text": [
      "71 83\n"
     ]
    }
   ],
   "source": [
    "# get indexs for columns\n",
    "print(df.columns.get_loc('legum_imag'), df.columns.get_loc('ecodr_imag'))"
   ]
  },
  {
   "cell_type": "code",
   "execution_count": 10,
   "id": "284a1183",
   "metadata": {},
   "outputs": [],
   "source": [
    "# these _imag columns contain little data \n",
    "df.drop(df.iloc[:, 71:84], inplace=True, axis=1)"
   ]
  },
  {
   "cell_type": "code",
   "execution_count": 11,
   "id": "3dbc6cb1",
   "metadata": {},
   "outputs": [],
   "source": [
    "# there is very little data to waste so nan values must be imputed for the 4 missing lines\n",
    "# columns to be imputed by different means\n",
    "mean_lst=['ley', 'perm_grass', 'oth_land', 'animal_unit', 'cattle_animal_unit', 'age']\n",
    "\n",
    "median_lst=['total_agr_land', 'workforce', 'trees', 'arable_land', 'add_agr_land', 'spec_crops',\n",
    "            'dairy_cows', 'suckler_cows', 'hor_shee_goa', 'pigs_poultry', 'pigs', 'poultry', 'eco_proof',\n",
    "            'educ', 'cons_general', 'percep_hail', 'percep_drought', 'percep_frost', 'percep_heavyrain',\n",
    "            'percep_longrain', 'percep_heat', 'activ_dairy', 'activ_cattle', 'activ_pig', 'activ_poultry',\n",
    "            'activ_arab', 'activ_special', 'activ_nonag', 'attain_ghg', 'attain_yield', 'attain_biodiv',\n",
    "            'attain_soil', 'attain_incom', 'attain_acknow', 'innov_pion', 'innov_early', 'innov_thorou', \n",
    "            'innov_others', 'innov_trad', 'satisf_ldw', 'thresh_ldw', 'satisf_total', 'thresh_total', \n",
    "            'share', 'others_opinions', 'soc_impr', 'soc_inc', 'soc_env', 'soc_compinc', 'soc_compenv',\n",
    "            'lott_1', 'lott_2', 'lott_3', 'GHG_goal', 'env_goal', 'biodiv_goal', 'acknow_goal', 'yield_goal',\n",
    "            'income_goal']\n",
    "\n",
    "most_frequent_lst=['farmtype', 'region']\n",
    "\n",
    "imputer_dict = {'mean':mean_lst, 'median':median_lst, 'most_frequent':most_frequent_lst}\n",
    "\n",
    "for key, value in imputer_dict.items():\n",
    "\n",
    "    imputer = SimpleImputer(strategy=key, missing_values=np.nan)\n",
    "    imputer = imputer.fit(df[value])\n",
    "    df[value] = imputer.transform(df[value])\n",
    "\n",
    "constant_zero_lst=['perm_crops', 'prot_cult', 'qual_landscape', 'grapes', 'vegetables', 'fruits', 'oth_spec_crops',\n",
    "                  'organic', 'id_survey']\n",
    "    \n",
    "imputer = SimpleImputer(strategy='constant', missing_values=np.nan, fill_value=0)\n",
    "imputer = imputer.fit(df[constant_zero_lst])\n",
    "df[constant_zero_lst] = imputer.transform(df[constant_zero_lst])\n",
    "\n",
    "del imputer"
   ]
  },
  {
   "cell_type": "code",
   "execution_count": 12,
   "id": "e765e3a8",
   "metadata": {},
   "outputs": [],
   "source": [
    "df.to_pickle('cleaned_df.pkl')"
   ]
  },
  {
   "cell_type": "markdown",
   "id": "d05bb756",
   "metadata": {},
   "source": [
    "finito"
   ]
  }
 ],
 "metadata": {
  "kernelspec": {
   "display_name": "Python 3 (ipykernel)",
   "language": "python",
   "name": "python3"
  },
  "language_info": {
   "codemirror_mode": {
    "name": "ipython",
    "version": 3
   },
   "file_extension": ".py",
   "mimetype": "text/x-python",
   "name": "python",
   "nbconvert_exporter": "python",
   "pygments_lexer": "ipython3",
   "version": "3.9.13"
  }
 },
 "nbformat": 4,
 "nbformat_minor": 5
}
