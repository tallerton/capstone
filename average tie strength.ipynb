{
 "cells": [
  {
   "cell_type": "code",
   "execution_count": 1,
   "id": "eb674663",
   "metadata": {},
   "outputs": [],
   "source": [
    "import pandas as pd\n",
    "import numpy as np"
   ]
  },
  {
   "cell_type": "code",
   "execution_count": 2,
   "id": "b2096720",
   "metadata": {},
   "outputs": [],
   "source": [
    "df_agcon_all = pd.read_csv(\"Edges_agroconcept_and_external_contacts.csv\", sep=';')\n",
    "df_nonpart_all = pd.read_csv(\"Edges_nonpart_all.csv\", sep=';')"
   ]
  },
  {
   "cell_type": "code",
   "execution_count": 7,
   "id": "16f53117",
   "metadata": {},
   "outputs": [
    {
     "data": {
      "text/plain": [
       "{'colleague_association_bef',\n",
       " 'familymember_bef',\n",
       " 'frequency_bef',\n",
       " 'friend_bef',\n",
       " 'influence_part',\n",
       " 'neighbour_bef',\n",
       " 'other_bef',\n",
       " 'partner_bef',\n",
       " 'workmate_bef'}"
      ]
     },
     "execution_count": 7,
     "metadata": {},
     "output_type": "execute_result"
    }
   ],
   "source": [
    "set(df_agcon_all.columns.values.tolist())-set(df_nonpart_all.columns.values.tolist())"
   ]
  },
  {
   "cell_type": "code",
   "execution_count": 8,
   "id": "4237eafb",
   "metadata": {},
   "outputs": [],
   "source": [
    "df = pd.concat([df_agcon_all,df_nonpart_all])"
   ]
  },
  {
   "cell_type": "code",
   "execution_count": 11,
   "id": "eb6b6321",
   "metadata": {},
   "outputs": [
    {
     "data": {
      "text/plain": [
       "{1: 1.7142857142857142,\n",
       " 2: 2.6666666666666665,\n",
       " 3: 2.0,\n",
       " 4: 2.0,\n",
       " 5: 1.8571428571428572,\n",
       " 6: 1.0,\n",
       " 7: 2.75,\n",
       " 8: 2.0,\n",
       " 9: 3.2857142857142856,\n",
       " 10: 1.6,\n",
       " 11: 1.0,\n",
       " 12: 2.857142857142857,\n",
       " 13: 2.0,\n",
       " 14: 2.8333333333333335,\n",
       " 15: 3.0,\n",
       " 16: 3.3333333333333335,\n",
       " 18: 3.0,\n",
       " 19: 2.3333333333333335,\n",
       " 20: 1.8888888888888888,\n",
       " 21: 2.142857142857143,\n",
       " 22: 2.1666666666666665,\n",
       " 23: 1.3333333333333333,\n",
       " 26: 2.3333333333333335,\n",
       " 27: 2.3333333333333335,\n",
       " 28: 2.0,\n",
       " 57: 2.1666666666666665,\n",
       " 58: 1.4285714285714286,\n",
       " 59: 2.2857142857142856,\n",
       " 60: 1.125,\n",
       " 61: 0.0,\n",
       " 62: 1.2857142857142858,\n",
       " 63: 2.6666666666666665,\n",
       " 64: 2.3333333333333335,\n",
       " 65: 0.0,\n",
       " 66: 1.5,\n",
       " 67: 2.375,\n",
       " 68: 0.8,\n",
       " 69: 1.5714285714285714,\n",
       " 70: 0.0,\n",
       " 71: 0.0,\n",
       " 72: 2.625,\n",
       " 73: 1.75,\n",
       " 74: 0.0,\n",
       " 75: 2.25,\n",
       " 76: 1.0869565217391304,\n",
       " 77: 1.3333333333333333,\n",
       " 78: 0.7727272727272727,\n",
       " 79: 0.45,\n",
       " 80: 2.0,\n",
       " 81: 2.375}"
      ]
     },
     "execution_count": 11,
     "metadata": {},
     "output_type": "execute_result"
    }
   ],
   "source": [
    "df.groupby(df['sender_id'])['frequency'].mean().to_dict()"
   ]
  },
  {
   "cell_type": "code",
   "execution_count": null,
   "id": "c5b9c2d2",
   "metadata": {},
   "outputs": [],
   "source": []
  }
 ],
 "metadata": {
  "kernelspec": {
   "display_name": "Python 3 (ipykernel)",
   "language": "python",
   "name": "python3"
  },
  "language_info": {
   "codemirror_mode": {
    "name": "ipython",
    "version": 3
   },
   "file_extension": ".py",
   "mimetype": "text/x-python",
   "name": "python",
   "nbconvert_exporter": "python",
   "pygments_lexer": "ipython3",
   "version": "3.9.13"
  }
 },
 "nbformat": 4,
 "nbformat_minor": 5
}
