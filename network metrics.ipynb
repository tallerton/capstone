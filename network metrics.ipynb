{
 "cells": [
  {
   "cell_type": "code",
   "execution_count": 1,
   "id": "3fe6a9b0",
   "metadata": {},
   "outputs": [],
   "source": [
    "import pandas as pd\n",
    "import numpy as np\n",
    "from sklearn.impute import SimpleImputer"
   ]
  },
  {
   "cell_type": "code",
   "execution_count": 2,
   "id": "3f0f80d8",
   "metadata": {},
   "outputs": [],
   "source": [
    "df = pd.read_pickle('prepped_df.pkl')"
   ]
  },
  {
   "cell_type": "code",
   "execution_count": 3,
   "id": "58637e63",
   "metadata": {},
   "outputs": [],
   "source": [
    "Eaaec_df = pd.read_csv(\"assets/Edges_agroconcept_and_external_contacts.csv\", sep=';')\n",
    "Ena_df = pd.read_csv(\"assets/Edges_nonpart_all.csv\", sep=';')\n",
    "\n",
    "edge_df = pd.concat([Eaaec_df,Ena_df])\n",
    "\n",
    "del Eaaec_df\n",
    "del Ena_df"
   ]
  },
  {
   "cell_type": "code",
   "execution_count": 4,
   "id": "cc47c6e2",
   "metadata": {},
   "outputs": [],
   "source": [
    "lst=['trust', 'knowledge']\n",
    "   \n",
    "imputer = SimpleImputer(strategy='median', missing_values=np.nan)\n",
    "imputer = imputer.fit(edge_df[lst])\n",
    "edge_df[lst] = imputer.transform(edge_df[lst])\n",
    "\n",
    "del lst"
   ]
  },
  {
   "cell_type": "code",
   "execution_count": 5,
   "id": "09fac42c",
   "metadata": {},
   "outputs": [],
   "source": [
    "edge_df.to_pickle('edge_df.pkl')"
   ]
  },
  {
   "cell_type": "code",
   "execution_count": 6,
   "id": "3855306e",
   "metadata": {},
   "outputs": [],
   "source": [
    "degree_dict = edge_df.groupby(edge_df['sender_id'])['sender_id'].count().to_dict()\n",
    "df['degree'] = df['ego_id'].map(degree_dict)"
   ]
  },
  {
   "cell_type": "code",
   "execution_count": 7,
   "id": "612072cf",
   "metadata": {},
   "outputs": [
    {
     "name": "stdout",
     "output_type": "stream",
     "text": [
      "0.01935054283200558\n"
     ]
    }
   ],
   "source": [
    "print(df['degree'].corr(df['CCMM_adopted_percent']))"
   ]
  },
  {
   "cell_type": "code",
   "execution_count": 8,
   "id": "f3a260d7",
   "metadata": {},
   "outputs": [],
   "source": [
    "edge_df['weak tie'] = np.where((edge_df['familymember']!=1) &\\\n",
    "                               (edge_df['partner']!=1) &\\\n",
    "                               (edge_df['neighbour']!=1) &\\\n",
    "                               (edge_df['friend']!=1), 1, 0)\n",
    "\n",
    "weak_tie_dict = edge_df.groupby(edge_df['sender_id'])['weak tie'].sum().to_dict()\n",
    "\n",
    "df['weak_ties'] = df['ego_id'].map(weak_tie_dict)"
   ]
  },
  {
   "cell_type": "code",
   "execution_count": 9,
   "id": "6d9e1b9f",
   "metadata": {},
   "outputs": [
    {
     "name": "stdout",
     "output_type": "stream",
     "text": [
      "0.08145826849923145\n"
     ]
    }
   ],
   "source": [
    "print(df['weak_ties'].corr(df['CCMM_adopted_percent']))"
   ]
  },
  {
   "cell_type": "code",
   "execution_count": 10,
   "id": "a6ad3bd5",
   "metadata": {},
   "outputs": [],
   "source": [
    "tot_freq_dict = edge_df.groupby(edge_df['sender_id'])['frequency'].sum().to_dict()\n",
    "df['tot_freq'] = df['ego_id'].map(tot_freq_dict)"
   ]
  },
  {
   "cell_type": "code",
   "execution_count": 11,
   "id": "8a4bd788",
   "metadata": {},
   "outputs": [
    {
     "name": "stdout",
     "output_type": "stream",
     "text": [
      "0.13864221787965586\n"
     ]
    }
   ],
   "source": [
    "print(df['tot_freq'].corr(df['CCMM_adopted_percent']))"
   ]
  },
  {
   "cell_type": "code",
   "execution_count": 12,
   "id": "edfbb0f5",
   "metadata": {},
   "outputs": [],
   "source": [
    "edge_df['frequency_qual'] = edge_df['frequency'] * edge_df['trust'] * edge_df['knowledge']"
   ]
  },
  {
   "cell_type": "code",
   "execution_count": 13,
   "id": "08c8b9b0",
   "metadata": {},
   "outputs": [],
   "source": [
    "tot_freq_qual_dict = edge_df.groupby(edge_df['sender_id'])['frequency_qual'].sum().to_dict()\n",
    "df['tot_freq_qual'] = df['ego_id'].map(tot_freq_qual_dict)"
   ]
  },
  {
   "cell_type": "code",
   "execution_count": 14,
   "id": "484e6bfe",
   "metadata": {},
   "outputs": [
    {
     "data": {
      "text/plain": [
       "<AxesSubplot:xlabel='tot_freq_qual', ylabel='CCMM_adopted_percent'>"
      ]
     },
     "execution_count": 14,
     "metadata": {},
     "output_type": "execute_result"
    },
    {
     "data": {
      "image/png": "[encoded data removed]",
      "text/plain": [
       "<Figure size 640x480 with 1 Axes>"
      ]
     },
     "metadata": {},
     "output_type": "display_data"
    }
   ],
   "source": [
    "df.plot.scatter(x='tot_freq_qual', y='CCMM_adopted_percent')"
   ]
  },
  {
   "cell_type": "code",
   "execution_count": 15,
   "id": "9ab84a36",
   "metadata": {},
   "outputs": [
    {
     "name": "stdout",
     "output_type": "stream",
     "text": [
      "0.19327579173471482\n"
     ]
    }
   ],
   "source": [
    "print(df['tot_freq_qual'].corr(df['CCMM_adopted_percent']))"
   ]
  },
  {
   "cell_type": "code",
   "execution_count": 16,
   "id": "fb69ae8f",
   "metadata": {},
   "outputs": [],
   "source": [
    "df.to_pickle('features_df.pkl')"
   ]
  },
  {
   "cell_type": "markdown",
   "id": "384d3d49",
   "metadata": {},
   "source": [
    "finito"
   ]
  }
 ],
 "metadata": {
  "kernelspec": {
   "display_name": "Python 3 (ipykernel)",
   "language": "python",
   "name": "python3"
  },
  "language_info": {
   "codemirror_mode": {
    "name": "ipython",
    "version": 3
   },
   "file_extension": ".py",
   "mimetype": "text/x-python",
   "name": "python",
   "nbconvert_exporter": "python",
   "pygments_lexer": "ipython3",
   "version": "3.9.13"
  }
 },
 "nbformat": 4,
 "nbformat_minor": 5
}
