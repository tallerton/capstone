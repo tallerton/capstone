{
 "cells": [
  {
   "cell_type": "code",
   "execution_count": 19,
   "id": "e598e478",
   "metadata": {},
   "outputs": [
    {
     "name": "stdout",
     "output_type": "stream",
     "text": [
      "The cosine similarity for the two fields, CC_import and CC_import_change, is: \n",
      " [[1.         0.94777627]\n",
      " [0.94777627 1.        ]]\n"
     ]
    }
   ],
   "source": [
    "import networkx as nx\n",
    "import pandas as pd\n",
    "import numpy as np\n",
    "import numpy as np; import pandas as pd\n",
    "from sklearn.metrics.pairwise import cosine_similarity\n",
    "\n",
    "\n",
    "part_df = pd.read_csv ('resources/Atts_agroconcept_int.csv',index_col=False,header=0)\n",
    "nonpart_df = pd.read_csv ('resources/Atts_nonpart_int.csv',index_col=False,header=0)\n",
    "\n",
    "part_df = part_df[['CC_import','CC_import_change']].T\n",
    "\n",
    "print('The cosine similarity for the two fields, CC_import and CC_import_change, is:','\\n', cosine_similarity(part_df))\n",
    "\n"
   ]
  },
  {
   "cell_type": "code",
   "execution_count": 20,
   "id": "f34f47bd",
   "metadata": {},
   "outputs": [
    {
     "name": "stdout",
     "output_type": "stream",
     "text": [
      "The cosine similarity for the non participants, CC_import_nonpart and CC_import_change_nonpart, is: \n",
      " [[1.         0.93706054]\n",
      " [0.93706054 1.        ]]\n"
     ]
    }
   ],
   "source": [
    "nonpart_df = nonpart_df[['CC_import_nonpart','CC_import_change_nonpart']].T\n",
    "\n",
    "print('The cosine similarity for the non participants, CC_import_nonpart and CC_import_change_nonpart, is:','\\n', cosine_similarity(nonpart_df))\n"
   ]
  },
  {
   "cell_type": "code",
   "execution_count": 24,
   "id": "6db87f06",
   "metadata": {},
   "outputs": [
    {
     "name": "stdout",
     "output_type": "stream",
     "text": [
      "The cosine similarity for the participants across furt_reduc, CC_import and CC_import_change is: \n",
      " [[1.         0.79866787 0.87805281]\n",
      " [0.79866787 1.         0.94777627]\n",
      " [0.87805281 0.94777627 1.        ]]\n"
     ]
    }
   ],
   "source": [
    "part_df = pd.read_csv ('resources/Atts_agroconcept_int.csv',index_col=False,header=0)\n",
    "nonpart_df = pd.read_csv ('resources/Atts_nonpart_int.csv',index_col=False,header=0)\n",
    "\n",
    "part_df = part_df[['furt_reduc','CC_import','CC_import_change']].T\n",
    "\n",
    "print('The cosine similarity for the participants across furt_reduc, CC_import and CC_import_change is:','\\n', cosine_similarity(part_df))"
   ]
  },
  {
   "cell_type": "code",
   "execution_count": 26,
   "id": "d4cfa344",
   "metadata": {},
   "outputs": [
    {
     "name": "stdout",
     "output_type": "stream",
     "text": [
      "The cosine similarity for nonparticipants across furt_reduc_nonpart, CC_import_nonpart and CC_import_change_nonpart is: \n",
      " [[1.         0.74215304 0.73843281]\n",
      " [0.74215304 1.         0.93706054]\n",
      " [0.73843281 0.93706054 1.        ]]\n"
     ]
    }
   ],
   "source": [
    "\n",
    "nonpart_df = pd.read_csv ('resources/Atts_nonpart_int.csv',index_col=False,header=0)\n",
    "\n",
    "nonpart_df = nonpart_df[['furt_reduc_nonpart','CC_import_nonpart','CC_import_change_nonpart']].T\n",
    "\n",
    "print('The cosine similarity for nonparticipants across furt_reduc_nonpart, CC_import_nonpart and CC_import_change_nonpart is:','\\n', cosine_similarity(nonpart_df))"
   ]
  },
  {
   "cell_type": "code",
   "execution_count": null,
   "id": "526cb866",
   "metadata": {},
   "outputs": [],
   "source": []
  }
 ],
 "metadata": {
  "kernelspec": {
   "display_name": "Python 3 (ipykernel)",
   "language": "python",
   "name": "python3"
  },
  "language_info": {
   "codemirror_mode": {
    "name": "ipython",
    "version": 3
   },
   "file_extension": ".py",
   "mimetype": "text/x-python",
   "name": "python",
   "nbconvert_exporter": "python",
   "pygments_lexer": "ipython3",
   "version": "3.8.10"
  }
 },
 "nbformat": 4,
 "nbformat_minor": 5
}
