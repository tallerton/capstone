{
 "cells": [
  {
   "cell_type": "code",
   "execution_count": 1,
   "id": "eb674663",
   "metadata": {},
   "outputs": [],
   "source": [
    "import pandas as pd\n",
    "import numpy as np"
   ]
  },
  {
   "cell_type": "code",
   "execution_count": 2,
   "id": "20bfeea0",
   "metadata": {},
   "outputs": [],
   "source": [
    "A = set(pd.read_csv(\"rawdata_new.csv\").columns.values.tolist())\n",
    "B = set(pd.read_csv(\"Atts_agroconcept_survey.csv\", sep=';').columns.values.tolist())\n",
    "C = set(pd.read_csv(\"Atts_nonpart_survey.csv\", sep=';').columns.values.tolist())"
   ]
  },
  {
   "cell_type": "code",
   "execution_count": 3,
   "id": "ce849449",
   "metadata": {},
   "outputs": [
    {
     "data": {
      "text/plain": [
       "{'co22011', 'co22015', 'co22018', 'mainprodcution', 'reducpercent'}"
      ]
     },
     "execution_count": 3,
     "metadata": {},
     "output_type": "execute_result"
    }
   ],
   "source": [
    "B - C"
   ]
  },
  {
   "cell_type": "code",
   "execution_count": 4,
   "id": "4e51f67c",
   "metadata": {},
   "outputs": [
    {
     "data": {
      "text/plain": [
       "{'date', 'id'}"
      ]
     },
     "execution_count": 4,
     "metadata": {},
     "output_type": "execute_result"
    }
   ],
   "source": [
    "A - B"
   ]
  },
  {
   "cell_type": "code",
   "execution_count": 5,
   "id": "db4f3ffa",
   "metadata": {},
   "outputs": [
    {
     "data": {
      "text/plain": [
       "{'co22011',\n",
       " 'co22015',\n",
       " 'co22018',\n",
       " 'ego_id',\n",
       " 'id_survey',\n",
       " 'mainprodcution',\n",
       " 'reducpercent'}"
      ]
     },
     "execution_count": 5,
     "metadata": {},
     "output_type": "execute_result"
    }
   ],
   "source": [
    "B - A"
   ]
  },
  {
   "cell_type": "code",
   "execution_count": 6,
   "id": "7c5cdfb4",
   "metadata": {},
   "outputs": [],
   "source": [
    "del A; del B; del C"
   ]
  },
  {
   "cell_type": "code",
   "execution_count": 7,
   "id": "83480a77",
   "metadata": {},
   "outputs": [],
   "source": [
    "df = pd.concat([pd.read_csv(\"Atts_agroconcept_survey.csv\", sep=';'), pd.read_csv(\"Atts_nonpart_survey.csv\", sep=';')])"
   ]
  },
  {
   "cell_type": "code",
   "execution_count": 8,
   "id": "0bfe4388",
   "metadata": {},
   "outputs": [],
   "source": [
    "%matplotlib inline\n",
    "from sklearn.preprocessing import StandardScaler\n",
    "from sklearn.decomposition import PCA"
   ]
  },
  {
   "cell_type": "code",
   "execution_count": null,
   "id": "f312c21d",
   "metadata": {},
   "outputs": [],
   "source": []
  },
  {
   "cell_type": "code",
   "execution_count": null,
   "id": "e012c1e2",
   "metadata": {},
   "outputs": [],
   "source": []
  },
  {
   "cell_type": "code",
   "execution_count": null,
   "id": "3a81e262",
   "metadata": {},
   "outputs": [],
   "source": []
  }
 ],
 "metadata": {
  "kernelspec": {
   "display_name": "Python 3 (ipykernel)",
   "language": "python",
   "name": "python3"
  },
  "language_info": {
   "codemirror_mode": {
    "name": "ipython",
    "version": 3
   },
   "file_extension": ".py",
   "mimetype": "text/x-python",
   "name": "python",
   "nbconvert_exporter": "python",
   "pygments_lexer": "ipython3",
   "version": "3.9.13"
  }
 },
 "nbformat": 4,
 "nbformat_minor": 5
}
