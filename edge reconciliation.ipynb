{
 "cells": [
  {
   "cell_type": "code",
   "execution_count": null,
   "id": "eb674663",
   "metadata": {},
   "outputs": [],
   "source": [
    "import pandas as pd\n",
    "import numpy as np"
   ]
  },
  {
   "cell_type": "code",
   "execution_count": null,
   "id": "6e6e7521",
   "metadata": {},
   "outputs": [],
   "source": [
    "Eaaec_df = pd.read_csv(\"assets/Edges_agroconcept_and_external_contacts.csv\", sep=';')\n",
    "Eac_df = pd.read_csv(\"assets/Edges_agroconcept_complete.csv\", sep=';')"
   ]
  },
  {
   "cell_type": "code",
   "execution_count": null,
   "id": "c0b4c8a9",
   "metadata": {},
   "outputs": [],
   "source": [
    "len(set(zip(Eaaec_df.sender_id, Eaaec_df.receiver_id))-\\\n",
    "set(zip(Eac_df.sender_id, Eac_df.receiver_id)))"
   ]
  },
  {
   "cell_type": "code",
   "execution_count": null,
   "id": "4268648c",
   "metadata": {},
   "outputs": [],
   "source": [
    "set(zip(Eac_df.sender_id, Eac_df.receiver_id))-\\\n",
    "set(zip(Eaaec_df.sender_id, Eaaec_df.receiver_id))"
   ]
  },
  {
   "cell_type": "code",
   "execution_count": null,
   "id": "7b799f93",
   "metadata": {},
   "outputs": [],
   "source": []
  },
  {
   "cell_type": "code",
   "execution_count": null,
   "id": "38eaeefc",
   "metadata": {},
   "outputs": [],
   "source": []
  },
  {
   "cell_type": "code",
   "execution_count": null,
   "id": "b2096720",
   "metadata": {},
   "outputs": [],
   "source": []
  },
  {
   "cell_type": "code",
   "execution_count": null,
   "id": "e6e632ba",
   "metadata": {},
   "outputs": [],
   "source": [
    "pd.read_csv(\"Edges_nonpart_all.csv\", sep=';')"
   ]
  },
  {
   "cell_type": "code",
   "execution_count": null,
   "id": "74eaf903",
   "metadata": {},
   "outputs": [],
   "source": []
  }
 ],
 "metadata": {
  "kernelspec": {
   "display_name": "Python 3 (ipykernel)",
   "language": "python",
   "name": "python3"
  },
  "language_info": {
   "codemirror_mode": {
    "name": "ipython",
    "version": 3
   },
   "file_extension": ".py",
   "mimetype": "text/x-python",
   "name": "python",
   "nbconvert_exporter": "python",
   "pygments_lexer": "ipython3",
   "version": "3.9.13"
  }
 },
 "nbformat": 4,
 "nbformat_minor": 5
}
