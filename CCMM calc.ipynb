{
 "cells": [
  {
   "cell_type": "code",
   "execution_count": 1,
   "id": "eb674663",
   "metadata": {},
   "outputs": [],
   "source": [
    "import pandas as pd\n",
    "import numpy as np"
   ]
  },
  {
   "cell_type": "code",
   "execution_count": 2,
   "id": "b53fb737",
   "metadata": {},
   "outputs": [],
   "source": [
    "df = pd.concat([pd.read_csv(\"assets/Atts_agroconcept_survey.csv\", sep=';'),\n",
    "                pd.read_csv(\"assets/Atts_nonpart_survey.csv\", sep=';')])"
   ]
  },
  {
   "cell_type": "code",
   "execution_count": 3,
   "id": "c69f1092",
   "metadata": {},
   "outputs": [],
   "source": [
    "CCMMs = ['legum','conc','add', 'lact', 'breed', 'covman', 'comp', 'drag', 'cov', 'plough', 'solar', 'biog', 'ecodr']"
   ]
  },
  {
   "cell_type": "code",
   "execution_count": 4,
   "id": "ad762ffc",
   "metadata": {},
   "outputs": [],
   "source": [
    "array = np.array(df[CCMMs])\n",
    "array = np.nan_to_num(array, nan=3)"
   ]
  },
  {
   "cell_type": "code",
   "execution_count": 5,
   "id": "58d64574",
   "metadata": {},
   "outputs": [],
   "source": [
    "array[array>1] = 0"
   ]
  },
  {
   "cell_type": "code",
   "execution_count": 6,
   "id": "ffe05833",
   "metadata": {},
   "outputs": [],
   "source": [
    "df['CCMM_adopted_count'] = np.sum(array, axis=1).tolist()"
   ]
  },
  {
   "cell_type": "code",
   "execution_count": 7,
   "id": "4bef3758",
   "metadata": {},
   "outputs": [],
   "source": [
    "array = np.array(df[CCMMs])\n",
    "array = np.nan_to_num(array, nan=3)"
   ]
  },
  {
   "cell_type": "code",
   "execution_count": 8,
   "id": "fbfa39d3",
   "metadata": {},
   "outputs": [],
   "source": [
    "array[array<3] = 1\n",
    "array[array==3] = 0"
   ]
  },
  {
   "cell_type": "code",
   "execution_count": 9,
   "id": "a9eff4af",
   "metadata": {},
   "outputs": [],
   "source": [
    "df['CCMM_relevant_count'] = np.sum(array, axis=1).tolist()"
   ]
  },
  {
   "cell_type": "code",
   "execution_count": 10,
   "id": "14d2ea7a",
   "metadata": {},
   "outputs": [],
   "source": [
    "df['CCMM_adopted_percent'] = df['CCMM_adopted_count'] / df['CCMM_relevant_count']"
   ]
  },
  {
   "cell_type": "code",
   "execution_count": 11,
   "id": "ba6a24d7",
   "metadata": {},
   "outputs": [],
   "source": [
    "del array"
   ]
  },
  {
   "cell_type": "code",
   "execution_count": 12,
   "id": "ae2ed030",
   "metadata": {},
   "outputs": [],
   "source": [
    "CCMM_eff = ['legum_eff','conc_eff','add_eff', 'lact_eff', 'breed_eff', 'covman_eff', 'comp_eff', \n",
    "            'drag_eff', 'cov_eff', 'plough_eff', 'solar_eff', 'biog_eff', 'ecodr_eff']"
   ]
  },
  {
   "cell_type": "code",
   "execution_count": 13,
   "id": "073982e4",
   "metadata": {},
   "outputs": [],
   "source": [
    "array = np.array(df[CCMM_eff])"
   ]
  },
  {
   "cell_type": "code",
   "execution_count": 14,
   "id": "8a01da81",
   "metadata": {},
   "outputs": [
    {
     "name": "stderr",
     "output_type": "stream",
     "text": [
      "C:\\Users\\nicho\\AppData\\Local\\Temp\\ipykernel_18752\\2378788889.py:1: RuntimeWarning: Mean of empty slice\n",
      "  df['CCMM_eff_mean'] =np.nanmean(array, axis=1).tolist()\n"
     ]
    }
   ],
   "source": [
    "df['CCMM_eff_mean'] =np.nanmean(array, axis=1).tolist()"
   ]
  },
  {
   "cell_type": "code",
   "execution_count": null,
   "id": "298e46a4",
   "metadata": {},
   "outputs": [],
   "source": []
  },
  {
   "cell_type": "code",
   "execution_count": null,
   "id": "2cc95a91",
   "metadata": {},
   "outputs": [],
   "source": []
  },
  {
   "cell_type": "code",
   "execution_count": null,
   "id": "640e09ba",
   "metadata": {},
   "outputs": [],
   "source": []
  }
 ],
 "metadata": {
  "kernelspec": {
   "display_name": "Python 3 (ipykernel)",
   "language": "python",
   "name": "python3"
  },
  "language_info": {
   "codemirror_mode": {
    "name": "ipython",
    "version": 3
   },
   "file_extension": ".py",
   "mimetype": "text/x-python",
   "name": "python",
   "nbconvert_exporter": "python",
   "pygments_lexer": "ipython3",
   "version": "3.9.13"
  }
 },
 "nbformat": 4,
 "nbformat_minor": 5
}
