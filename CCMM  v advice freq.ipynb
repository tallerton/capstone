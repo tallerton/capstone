{
 "cells": [
  {
   "cell_type": "code",
   "execution_count": 1,
   "id": "eb674663",
   "metadata": {},
   "outputs": [],
   "source": [
    "import pandas as pd\n",
    "import numpy as np"
   ]
  },
  {
   "cell_type": "code",
   "execution_count": 2,
   "id": "b53fb737",
   "metadata": {},
   "outputs": [],
   "source": [
    "df = pd.concat([pd.read_csv(\"Atts_agroconcept_survey.csv\", sep=';'),pd.read_csv(\"Atts_nonpart_survey.csv\", sep=';')])"
   ]
  },
  {
   "cell_type": "code",
   "execution_count": 3,
   "id": "c69f1092",
   "metadata": {},
   "outputs": [],
   "source": [
    "CCMMs = ['legum','conc','add', 'lact', 'breed', 'covman', 'comp', 'drag', 'cov', 'plough', 'solar', 'biog', 'ecodr', ]"
   ]
  },
  {
   "cell_type": "code",
   "execution_count": 4,
   "id": "ad762ffc",
   "metadata": {},
   "outputs": [],
   "source": [
    "array = np.array(df[CCMMs])\n",
    "array = np.nan_to_num(array, nan=3)"
   ]
  },
  {
   "cell_type": "code",
   "execution_count": 5,
   "id": "58d64574",
   "metadata": {},
   "outputs": [],
   "source": [
    "array[array>1] = 0"
   ]
  },
  {
   "cell_type": "code",
   "execution_count": 6,
   "id": "ffe05833",
   "metadata": {},
   "outputs": [],
   "source": [
    "df['CCMM_adopted_count'] = np.sum(array, axis=1).tolist()"
   ]
  },
  {
   "cell_type": "code",
   "execution_count": 7,
   "id": "4bef3758",
   "metadata": {},
   "outputs": [],
   "source": [
    "array = np.array(df[CCMMs])\n",
    "array = np.nan_to_num(array, nan=3)"
   ]
  },
  {
   "cell_type": "code",
   "execution_count": 8,
   "id": "fbfa39d3",
   "metadata": {},
   "outputs": [],
   "source": [
    "array[array<3] = 1\n",
    "array[array==3] = 0"
   ]
  },
  {
   "cell_type": "code",
   "execution_count": 9,
   "id": "a9eff4af",
   "metadata": {},
   "outputs": [],
   "source": [
    "df['CCMM_relevant_count'] = np.sum(array, axis=1).tolist()"
   ]
  },
  {
   "cell_type": "code",
   "execution_count": 10,
   "id": "14d2ea7a",
   "metadata": {},
   "outputs": [],
   "source": [
    "df['CCMM_adopted_percent'] = df['CCMM_adopted_count'] / df['CCMM_relevant_count']"
   ]
  },
  {
   "cell_type": "code",
   "execution_count": 11,
   "id": "ba6a24d7",
   "metadata": {},
   "outputs": [],
   "source": [
    "del array"
   ]
  },
  {
   "cell_type": "code",
   "execution_count": 12,
   "id": "40af81c4",
   "metadata": {},
   "outputs": [],
   "source": [
    "df_agcon_all = pd.read_csv(\"Edges_agroconcept_and_external_contacts.csv\", sep=';')\n",
    "df_nonpart_all = pd.read_csv(\"Edges_nonpart_all.csv\", sep=';')\n",
    "edges_df = pd.concat([df_agcon_all,df_nonpart_all])\n",
    "av_freq_dict = edges_df.groupby(edges_df['sender_id'])['frequency'].mean().to_dict()\n",
    "del edges_df"
   ]
  },
  {
   "cell_type": "code",
   "execution_count": 13,
   "id": "a7fec59b",
   "metadata": {},
   "outputs": [],
   "source": [
    "df['av_freq'] = df['ego_id'].map(av_freq_dict)"
   ]
  },
  {
   "cell_type": "code",
   "execution_count": 14,
   "id": "9b03fbc7",
   "metadata": {},
   "outputs": [
    {
     "data": {
      "text/plain": [
       "<AxesSubplot:xlabel='av_freq', ylabel='CCMM_adopted_percent'>"
      ]
     },
     "execution_count": 14,
     "metadata": {},
     "output_type": "execute_result"
    },
    {
     "data": {
      "image/png": "[encoded data removed]",
      "text/plain": [
       "<Figure size 640x480 with 1 Axes>"
      ]
     },
     "metadata": {},
     "output_type": "display_data"
    }
   ],
   "source": [
    "df.plot.scatter(x='av_freq', y='CCMM_adopted_percent')"
   ]
  },
  {
   "cell_type": "code",
   "execution_count": 15,
   "id": "f7c79d0e",
   "metadata": {},
   "outputs": [
    {
     "name": "stdout",
     "output_type": "stream",
     "text": [
      "0.07030791085897825\n"
     ]
    }
   ],
   "source": [
    "print(df['av_freq'].corr(df['CCMM_adopted_percent']))"
   ]
  },
  {
   "cell_type": "code",
   "execution_count": null,
   "id": "ae2ed030",
   "metadata": {},
   "outputs": [],
   "source": []
  }
 ],
 "metadata": {
  "kernelspec": {
   "display_name": "Python 3 (ipykernel)",
   "language": "python",
   "name": "python3"
  },
  "language_info": {
   "codemirror_mode": {
    "name": "ipython",
    "version": 3
   },
   "file_extension": ".py",
   "mimetype": "text/x-python",
   "name": "python",
   "nbconvert_exporter": "python",
   "pygments_lexer": "ipython3",
   "version": "3.9.13"
  }
 },
 "nbformat": 4,
 "nbformat_minor": 5
}
