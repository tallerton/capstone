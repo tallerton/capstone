{
 "cells": [
  {
   "cell_type": "code",
   "execution_count": 1,
   "id": "eb674663",
   "metadata": {},
   "outputs": [],
   "source": [
    "import pandas as pd\n",
    "import numpy as np\n",
    "import altair as alt"
   ]
  },
  {
   "cell_type": "code",
   "execution_count": 2,
   "id": "b53fb737",
   "metadata": {},
   "outputs": [],
   "source": [
    "df = pd.concat([pd.read_csv(\"assets/Atts_agroconcept_survey.csv\", sep=';'),\n",
    "                pd.read_csv(\"assets/Atts_nonpart_survey.csv\", sep=';')])"
   ]
  },
  {
   "cell_type": "code",
   "execution_count": 5,
   "id": "c69f1092",
   "metadata": {},
   "outputs": [],
   "source": [
    "perceps = ['percep_hail','percep_drought','percep_frost', 'percep_heavyrain', 'percep_longrain', 'percep_heat']"
   ]
  },
  {
   "cell_type": "code",
   "execution_count": 14,
   "id": "7c4d931a",
   "metadata": {},
   "outputs": [
    {
     "data": {
      "text/html": [
       "\n",
       "<style>\n",
       "  #altair-viz-b1611663f7ec466583b8eb1cac375a47.vega-embed {\n",
       "    width: 100%;\n",
       "    display: flex;\n",
       "  }\n",
       "\n",
       "  #altair-viz-b1611663f7ec466583b8eb1cac375a47.vega-embed details,\n",
       "  #altair-viz-b1611663f7ec466583b8eb1cac375a47.vega-embed details summary {\n",
       "    position: relative;\n",
       "  }\n",
       "</style>\n",
       "<div id=\"altair-viz-b1611663f7ec466583b8eb1cac375a47\"></div>\n",
       "<script type=\"text/javascript\">\n",
       "  var VEGA_DEBUG = (typeof VEGA_DEBUG == \"undefined\") ? {} : VEGA_DEBUG;\n",
       "  (function(spec, embedOpt){\n",
       "    let outputDiv = document.currentScript.previousElementSibling;\n",
       "    if (outputDiv.id !== \"altair-viz-b1611663f7ec466583b8eb1cac375a47\") {\n",
       "      outputDiv = document.getElementById(\"altair-viz-b1611663f7ec466583b8eb1cac375a47\");\n",
       "    }\n",
       "    const paths = {\n",
       "      \"vega\": \"https://cdn.jsdelivr.net/npm/vega@5?noext\",\n",
       "      \"vega-lib\": \"https://cdn.jsdelivr.net/npm/vega-lib?noext\",\n",
       "      \"vega-lite\": \"https://cdn.jsdelivr.net/npm/vega-lite@5.8.0?noext\",\n",
       "      \"vega-embed\": \"https://cdn.jsdelivr.net/npm/vega-embed@6?noext\",\n",
       "    };\n",
       "\n",
       "    function maybeLoadScript(lib, version) {\n",
       "      var key = `${lib.replace(\"-\", \"\")}_version`;\n",
       "      return (VEGA_DEBUG[key] == version) ?\n",
       "        Promise.resolve(paths[lib]) :\n",
       "        new Promise(function(resolve, reject) {\n",
       "          var s = document.createElement('script');\n",
       "          document.getElementsByTagName(\"head\")[0].appendChild(s);\n",
       "          s.async = true;\n",
       "          s.onload = () => {\n",
       "            VEGA_DEBUG[key] = version;\n",
       "            return resolve(paths[lib]);\n",
       "          };\n",
       "          s.onerror = () => reject(`Error loading script: ${paths[lib]}`);\n",
       "          s.src = paths[lib];\n",
       "        });\n",
       "    }\n",
       "\n",
       "    function showError(err) {\n",
       "      outputDiv.innerHTML = `<div class=\"error\" style=\"color:red;\">${err}</div>`;\n",
       "      throw err;\n",
       "    }\n",
       "\n",
       "    function displayChart(vegaEmbed) {\n",
       "      vegaEmbed(outputDiv, spec, embedOpt)\n",
       "        .catch(err => showError(`Javascript Error: ${err.message}<br>This usually means there's a typo in your chart specification. See the javascript console for the full traceback.`));\n",
       "    }\n",
       "\n",
       "    if(typeof define === \"function\" && define.amd) {\n",
       "      requirejs.config({paths});\n",
       "      require([\"vega-embed\"], displayChart, err => showError(`Error loading script: ${err.message}`));\n",
       "    } else {\n",
       "      maybeLoadScript(\"vega\", \"5\")\n",
       "        .then(() => maybeLoadScript(\"vega-lite\", \"5.8.0\"))\n",
       "        .then(() => maybeLoadScript(\"vega-embed\", \"6\"))\n",
       "        .catch(showError)\n",
       "        .then(() => displayChart(vegaEmbed));\n",
       "    }\n",
       "  })({\"config\": {\"view\": {\"continuousWidth\": 300, \"continuousHeight\": 300}}, \"data\": {\"name\": \"data-266f5739b5eaa112329c4d72cc9ce6dc\"}, \"mark\": {\"type\": \"bar\"}, \"encoding\": {\"color\": {\"field\": \"value\", \"type\": \"quantitative\"}, \"x\": {\"aggregate\": \"sum\", \"field\": \"value\", \"stack\": \"normalize\", \"type\": \"quantitative\"}, \"y\": {\"field\": \"variable\", \"type\": \"nominal\"}}, \"$schema\": \"https://vega.github.io/schema/vega-lite/v5.8.0.json\", \"datasets\": {\"data-266f5739b5eaa112329c4d72cc9ce6dc\": [{\"variable\": \"percep_hail\", \"value\": 1.0}, {\"variable\": \"percep_hail\", \"value\": 2.0}, {\"variable\": \"percep_hail\", \"value\": 1.0}, {\"variable\": \"percep_hail\", \"value\": 1.0}, {\"variable\": \"percep_hail\", \"value\": 2.0}, {\"variable\": \"percep_hail\", \"value\": 1.0}, {\"variable\": \"percep_hail\", \"value\": 2.0}, {\"variable\": \"percep_hail\", \"value\": 2.0}, {\"variable\": \"percep_hail\", \"value\": 2.0}, {\"variable\": \"percep_hail\", \"value\": 1.0}, {\"variable\": \"percep_hail\", \"value\": 1.0}, {\"variable\": \"percep_hail\", \"value\": 1.0}, {\"variable\": \"percep_hail\", \"value\": 2.0}, {\"variable\": \"percep_hail\", \"value\": 2.0}, {\"variable\": \"percep_hail\", \"value\": 1.0}, {\"variable\": \"percep_hail\", \"value\": 1.0}, {\"variable\": \"percep_hail\", \"value\": 2.0}, {\"variable\": \"percep_hail\", \"value\": 2.0}, {\"variable\": \"percep_hail\", \"value\": 3.0}, {\"variable\": \"percep_hail\", \"value\": 1.0}, {\"variable\": \"percep_hail\", \"value\": 1.0}, {\"variable\": \"percep_hail\", \"value\": 1.0}, {\"variable\": \"percep_hail\", \"value\": 2.0}, {\"variable\": \"percep_hail\", \"value\": 2.0}, {\"variable\": \"percep_hail\", \"value\": null}, {\"variable\": \"percep_hail\", \"value\": 2.0}, {\"variable\": \"percep_hail\", \"value\": 1.0}, {\"variable\": \"percep_hail\", \"value\": 2.0}, {\"variable\": \"percep_hail\", \"value\": 1.0}, {\"variable\": \"percep_hail\", \"value\": 1.0}, {\"variable\": \"percep_hail\", \"value\": 3.0}, {\"variable\": \"percep_hail\", \"value\": 2.0}, {\"variable\": \"percep_hail\", \"value\": 1.0}, {\"variable\": \"percep_hail\", \"value\": 2.0}, {\"variable\": \"percep_hail\", \"value\": 3.0}, {\"variable\": \"percep_hail\", \"value\": 1.0}, {\"variable\": \"percep_hail\", \"value\": 1.0}, {\"variable\": \"percep_hail\", \"value\": 1.0}, {\"variable\": \"percep_hail\", \"value\": 1.0}, {\"variable\": \"percep_hail\", \"value\": 2.0}, {\"variable\": \"percep_hail\", \"value\": 1.0}, {\"variable\": \"percep_hail\", \"value\": 1.0}, {\"variable\": \"percep_hail\", \"value\": 1.0}, {\"variable\": \"percep_hail\", \"value\": 1.0}, {\"variable\": \"percep_hail\", \"value\": 1.0}, {\"variable\": \"percep_hail\", \"value\": 1.0}, {\"variable\": \"percep_hail\", \"value\": 1.0}, {\"variable\": \"percep_hail\", \"value\": null}, {\"variable\": \"percep_hail\", \"value\": null}, {\"variable\": \"percep_hail\", \"value\": null}, {\"variable\": \"percep_drought\", \"value\": 2.0}, {\"variable\": \"percep_drought\", \"value\": 2.0}, {\"variable\": \"percep_drought\", \"value\": 2.0}, {\"variable\": \"percep_drought\", \"value\": 2.0}, {\"variable\": \"percep_drought\", \"value\": 3.0}, {\"variable\": \"percep_drought\", \"value\": 2.0}, {\"variable\": \"percep_drought\", \"value\": 2.0}, {\"variable\": \"percep_drought\", \"value\": 3.0}, {\"variable\": \"percep_drought\", \"value\": 3.0}, {\"variable\": \"percep_drought\", \"value\": 2.0}, {\"variable\": \"percep_drought\", \"value\": 2.0}, {\"variable\": \"percep_drought\", \"value\": 2.0}, {\"variable\": \"percep_drought\", \"value\": 2.0}, {\"variable\": \"percep_drought\", \"value\": 3.0}, {\"variable\": \"percep_drought\", \"value\": 2.0}, {\"variable\": \"percep_drought\", \"value\": 2.0}, {\"variable\": \"percep_drought\", \"value\": 3.0}, {\"variable\": \"percep_drought\", \"value\": 2.0}, {\"variable\": \"percep_drought\", \"value\": 3.0}, {\"variable\": \"percep_drought\", \"value\": 3.0}, {\"variable\": \"percep_drought\", \"value\": 2.0}, {\"variable\": \"percep_drought\", \"value\": 2.0}, {\"variable\": \"percep_drought\", \"value\": 3.0}, {\"variable\": \"percep_drought\", \"value\": 2.0}, {\"variable\": \"percep_drought\", \"value\": null}, {\"variable\": \"percep_drought\", \"value\": 2.0}, {\"variable\": \"percep_drought\", \"value\": 2.0}, {\"variable\": \"percep_drought\", \"value\": 2.0}, {\"variable\": \"percep_drought\", \"value\": 2.0}, {\"variable\": \"percep_drought\", \"value\": 2.0}, {\"variable\": \"percep_drought\", \"value\": 2.0}, {\"variable\": \"percep_drought\", \"value\": 3.0}, {\"variable\": \"percep_drought\", \"value\": 2.0}, {\"variable\": \"percep_drought\", \"value\": 2.0}, {\"variable\": \"percep_drought\", \"value\": 3.0}, {\"variable\": \"percep_drought\", \"value\": 2.0}, {\"variable\": \"percep_drought\", \"value\": 3.0}, {\"variable\": \"percep_drought\", \"value\": 2.0}, {\"variable\": \"percep_drought\", \"value\": 3.0}, {\"variable\": \"percep_drought\", \"value\": 1.0}, {\"variable\": \"percep_drought\", \"value\": 2.0}, {\"variable\": \"percep_drought\", \"value\": 2.0}, {\"variable\": \"percep_drought\", \"value\": 2.0}, {\"variable\": \"percep_drought\", \"value\": 2.0}, {\"variable\": \"percep_drought\", \"value\": 2.0}, {\"variable\": \"percep_drought\", \"value\": 2.0}, {\"variable\": \"percep_drought\", \"value\": 1.0}, {\"variable\": \"percep_drought\", \"value\": null}, {\"variable\": \"percep_drought\", \"value\": null}, {\"variable\": \"percep_drought\", \"value\": null}, {\"variable\": \"percep_frost\", \"value\": 1.0}, {\"variable\": \"percep_frost\", \"value\": 2.0}, {\"variable\": \"percep_frost\", \"value\": 1.0}, {\"variable\": \"percep_frost\", \"value\": 2.0}, {\"variable\": \"percep_frost\", \"value\": 2.0}, {\"variable\": \"percep_frost\", \"value\": 1.0}, {\"variable\": \"percep_frost\", \"value\": 1.0}, {\"variable\": \"percep_frost\", \"value\": 2.0}, {\"variable\": \"percep_frost\", \"value\": 1.0}, {\"variable\": \"percep_frost\", \"value\": 2.0}, {\"variable\": \"percep_frost\", \"value\": 2.0}, {\"variable\": \"percep_frost\", \"value\": 1.0}, {\"variable\": \"percep_frost\", \"value\": 1.0}, {\"variable\": \"percep_frost\", \"value\": 2.0}, {\"variable\": \"percep_frost\", \"value\": 1.0}, {\"variable\": \"percep_frost\", \"value\": 2.0}, {\"variable\": \"percep_frost\", \"value\": 3.0}, {\"variable\": \"percep_frost\", \"value\": 2.0}, {\"variable\": \"percep_frost\", \"value\": 1.0}, {\"variable\": \"percep_frost\", \"value\": 2.0}, {\"variable\": \"percep_frost\", \"value\": 3.0}, {\"variable\": \"percep_frost\", \"value\": 2.0}, {\"variable\": \"percep_frost\", \"value\": 2.0}, {\"variable\": \"percep_frost\", \"value\": 2.0}, {\"variable\": \"percep_frost\", \"value\": null}, {\"variable\": \"percep_frost\", \"value\": 2.0}, {\"variable\": \"percep_frost\", \"value\": 1.0}, {\"variable\": \"percep_frost\", \"value\": 2.0}, {\"variable\": \"percep_frost\", \"value\": 1.0}, {\"variable\": \"percep_frost\", \"value\": 2.0}, {\"variable\": \"percep_frost\", \"value\": 1.0}, {\"variable\": \"percep_frost\", \"value\": 1.0}, {\"variable\": \"percep_frost\", \"value\": 2.0}, {\"variable\": \"percep_frost\", \"value\": 2.0}, {\"variable\": \"percep_frost\", \"value\": 3.0}, {\"variable\": \"percep_frost\", \"value\": 1.0}, {\"variable\": \"percep_frost\", \"value\": 2.0}, {\"variable\": \"percep_frost\", \"value\": 2.0}, {\"variable\": \"percep_frost\", \"value\": 1.0}, {\"variable\": \"percep_frost\", \"value\": 2.0}, {\"variable\": \"percep_frost\", \"value\": 1.0}, {\"variable\": \"percep_frost\", \"value\": 3.0}, {\"variable\": \"percep_frost\", \"value\": 1.0}, {\"variable\": \"percep_frost\", \"value\": 1.0}, {\"variable\": \"percep_frost\", \"value\": 2.0}, {\"variable\": \"percep_frost\", \"value\": 2.0}, {\"variable\": \"percep_frost\", \"value\": 1.0}, {\"variable\": \"percep_frost\", \"value\": null}, {\"variable\": \"percep_frost\", \"value\": null}, {\"variable\": \"percep_frost\", \"value\": null}, {\"variable\": \"percep_heavyrain\", \"value\": 3.0}, {\"variable\": \"percep_heavyrain\", \"value\": 2.0}, {\"variable\": \"percep_heavyrain\", \"value\": 2.0}, {\"variable\": \"percep_heavyrain\", \"value\": 2.0}, {\"variable\": \"percep_heavyrain\", \"value\": 1.0}, {\"variable\": \"percep_heavyrain\", \"value\": 2.0}, {\"variable\": \"percep_heavyrain\", \"value\": 2.0}, {\"variable\": \"percep_heavyrain\", \"value\": 1.0}, {\"variable\": \"percep_heavyrain\", \"value\": 3.0}, {\"variable\": \"percep_heavyrain\", \"value\": 2.0}, {\"variable\": \"percep_heavyrain\", \"value\": 2.0}, {\"variable\": \"percep_heavyrain\", \"value\": 2.0}, {\"variable\": \"percep_heavyrain\", \"value\": 1.0}, {\"variable\": \"percep_heavyrain\", \"value\": 3.0}, {\"variable\": \"percep_heavyrain\", \"value\": 2.0}, {\"variable\": \"percep_heavyrain\", \"value\": 2.0}, {\"variable\": \"percep_heavyrain\", \"value\": 2.0}, {\"variable\": \"percep_heavyrain\", \"value\": 2.0}, {\"variable\": \"percep_heavyrain\", \"value\": 2.0}, {\"variable\": \"percep_heavyrain\", \"value\": 1.0}, {\"variable\": \"percep_heavyrain\", \"value\": 2.0}, {\"variable\": \"percep_heavyrain\", \"value\": 2.0}, {\"variable\": \"percep_heavyrain\", \"value\": 3.0}, {\"variable\": \"percep_heavyrain\", \"value\": 1.0}, {\"variable\": \"percep_heavyrain\", \"value\": null}, {\"variable\": \"percep_heavyrain\", \"value\": 2.0}, {\"variable\": \"percep_heavyrain\", \"value\": 1.0}, {\"variable\": \"percep_heavyrain\", \"value\": 1.0}, {\"variable\": \"percep_heavyrain\", \"value\": 1.0}, {\"variable\": \"percep_heavyrain\", \"value\": 2.0}, {\"variable\": \"percep_heavyrain\", \"value\": 1.0}, {\"variable\": \"percep_heavyrain\", \"value\": 2.0}, {\"variable\": \"percep_heavyrain\", \"value\": 3.0}, {\"variable\": \"percep_heavyrain\", \"value\": 1.0}, {\"variable\": \"percep_heavyrain\", \"value\": 3.0}, {\"variable\": \"percep_heavyrain\", \"value\": 2.0}, {\"variable\": \"percep_heavyrain\", \"value\": 2.0}, {\"variable\": \"percep_heavyrain\", \"value\": 2.0}, {\"variable\": \"percep_heavyrain\", \"value\": 2.0}, {\"variable\": \"percep_heavyrain\", \"value\": 2.0}, {\"variable\": \"percep_heavyrain\", \"value\": 2.0}, {\"variable\": \"percep_heavyrain\", \"value\": 1.0}, {\"variable\": \"percep_heavyrain\", \"value\": 1.0}, {\"variable\": \"percep_heavyrain\", \"value\": 2.0}, {\"variable\": \"percep_heavyrain\", \"value\": 1.0}, {\"variable\": \"percep_heavyrain\", \"value\": 1.0}, {\"variable\": \"percep_heavyrain\", \"value\": 1.0}, {\"variable\": \"percep_heavyrain\", \"value\": null}, {\"variable\": \"percep_heavyrain\", \"value\": null}, {\"variable\": \"percep_heavyrain\", \"value\": null}, {\"variable\": \"percep_longrain\", \"value\": 2.0}, {\"variable\": \"percep_longrain\", \"value\": 1.0}, {\"variable\": \"percep_longrain\", \"value\": 2.0}, {\"variable\": \"percep_longrain\", \"value\": 2.0}, {\"variable\": \"percep_longrain\", \"value\": 2.0}, {\"variable\": \"percep_longrain\", \"value\": 1.0}, {\"variable\": \"percep_longrain\", \"value\": 1.0}, {\"variable\": \"percep_longrain\", \"value\": 1.0}, {\"variable\": \"percep_longrain\", \"value\": 3.0}, {\"variable\": \"percep_longrain\", \"value\": 1.0}, {\"variable\": \"percep_longrain\", \"value\": 1.0}, {\"variable\": \"percep_longrain\", \"value\": 1.0}, {\"variable\": \"percep_longrain\", \"value\": 2.0}, {\"variable\": \"percep_longrain\", \"value\": 1.0}, {\"variable\": \"percep_longrain\", \"value\": 2.0}, {\"variable\": \"percep_longrain\", \"value\": 2.0}, {\"variable\": \"percep_longrain\", \"value\": 2.0}, {\"variable\": \"percep_longrain\", \"value\": 2.0}, {\"variable\": \"percep_longrain\", \"value\": 1.0}, {\"variable\": \"percep_longrain\", \"value\": 2.0}, {\"variable\": \"percep_longrain\", \"value\": 2.0}, {\"variable\": \"percep_longrain\", \"value\": 2.0}, {\"variable\": \"percep_longrain\", \"value\": 2.0}, {\"variable\": \"percep_longrain\", \"value\": 2.0}, {\"variable\": \"percep_longrain\", \"value\": null}, {\"variable\": \"percep_longrain\", \"value\": 1.0}, {\"variable\": \"percep_longrain\", \"value\": 2.0}, {\"variable\": \"percep_longrain\", \"value\": 1.0}, {\"variable\": \"percep_longrain\", \"value\": 1.0}, {\"variable\": \"percep_longrain\", \"value\": 2.0}, {\"variable\": \"percep_longrain\", \"value\": 2.0}, {\"variable\": \"percep_longrain\", \"value\": 2.0}, {\"variable\": \"percep_longrain\", \"value\": 2.0}, {\"variable\": \"percep_longrain\", \"value\": 2.0}, {\"variable\": \"percep_longrain\", \"value\": 3.0}, {\"variable\": \"percep_longrain\", \"value\": 1.0}, {\"variable\": \"percep_longrain\", \"value\": 2.0}, {\"variable\": \"percep_longrain\", \"value\": 2.0}, {\"variable\": \"percep_longrain\", \"value\": 2.0}, {\"variable\": \"percep_longrain\", \"value\": 2.0}, {\"variable\": \"percep_longrain\", \"value\": 2.0}, {\"variable\": \"percep_longrain\", \"value\": 1.0}, {\"variable\": \"percep_longrain\", \"value\": 1.0}, {\"variable\": \"percep_longrain\", \"value\": 3.0}, {\"variable\": \"percep_longrain\", \"value\": 2.0}, {\"variable\": \"percep_longrain\", \"value\": 2.0}, {\"variable\": \"percep_longrain\", \"value\": 1.0}, {\"variable\": \"percep_longrain\", \"value\": null}, {\"variable\": \"percep_longrain\", \"value\": null}, {\"variable\": \"percep_longrain\", \"value\": null}, {\"variable\": \"percep_heat\", \"value\": 2.0}, {\"variable\": \"percep_heat\", \"value\": 2.0}, {\"variable\": \"percep_heat\", \"value\": 2.0}, {\"variable\": \"percep_heat\", \"value\": 1.0}, {\"variable\": \"percep_heat\", \"value\": 3.0}, {\"variable\": \"percep_heat\", \"value\": 2.0}, {\"variable\": \"percep_heat\", \"value\": 2.0}, {\"variable\": \"percep_heat\", \"value\": 2.0}, {\"variable\": \"percep_heat\", \"value\": 3.0}, {\"variable\": \"percep_heat\", \"value\": 2.0}, {\"variable\": \"percep_heat\", \"value\": 2.0}, {\"variable\": \"percep_heat\", \"value\": 1.0}, {\"variable\": \"percep_heat\", \"value\": 2.0}, {\"variable\": \"percep_heat\", \"value\": 3.0}, {\"variable\": \"percep_heat\", \"value\": 3.0}, {\"variable\": \"percep_heat\", \"value\": 2.0}, {\"variable\": \"percep_heat\", \"value\": 3.0}, {\"variable\": \"percep_heat\", \"value\": 2.0}, {\"variable\": \"percep_heat\", \"value\": 3.0}, {\"variable\": \"percep_heat\", \"value\": 2.0}, {\"variable\": \"percep_heat\", \"value\": 3.0}, {\"variable\": \"percep_heat\", \"value\": 2.0}, {\"variable\": \"percep_heat\", \"value\": 2.0}, {\"variable\": \"percep_heat\", \"value\": 2.0}, {\"variable\": \"percep_heat\", \"value\": null}, {\"variable\": \"percep_heat\", \"value\": 2.0}, {\"variable\": \"percep_heat\", \"value\": 2.0}, {\"variable\": \"percep_heat\", \"value\": 2.0}, {\"variable\": \"percep_heat\", \"value\": 2.0}, {\"variable\": \"percep_heat\", \"value\": 2.0}, {\"variable\": \"percep_heat\", \"value\": 2.0}, {\"variable\": \"percep_heat\", \"value\": 3.0}, {\"variable\": \"percep_heat\", \"value\": 2.0}, {\"variable\": \"percep_heat\", \"value\": 2.0}, {\"variable\": \"percep_heat\", \"value\": 3.0}, {\"variable\": \"percep_heat\", \"value\": 2.0}, {\"variable\": \"percep_heat\", \"value\": 2.0}, {\"variable\": \"percep_heat\", \"value\": 3.0}, {\"variable\": \"percep_heat\", \"value\": 2.0}, {\"variable\": \"percep_heat\", \"value\": 1.0}, {\"variable\": \"percep_heat\", \"value\": 2.0}, {\"variable\": \"percep_heat\", \"value\": 2.0}, {\"variable\": \"percep_heat\", \"value\": 2.0}, {\"variable\": \"percep_heat\", \"value\": 3.0}, {\"variable\": \"percep_heat\", \"value\": 2.0}, {\"variable\": \"percep_heat\", \"value\": 2.0}, {\"variable\": \"percep_heat\", \"value\": 1.0}, {\"variable\": \"percep_heat\", \"value\": null}, {\"variable\": \"percep_heat\", \"value\": null}, {\"variable\": \"percep_heat\", \"value\": null}]}}, {\"mode\": \"vega-lite\"});\n",
       "</script>"
      ],
      "text/plain": [
       "alt.Chart(...)"
      ]
     },
     "execution_count": 14,
     "metadata": {},
     "output_type": "execute_result"
    }
   ],
   "source": [
    "alt.Chart(df[perceps].melt()).mark_bar().encode(\n",
    "    x=alt.X('sum(value)').stack(\"normalize\"),\n",
    "    y='variable',\n",
    "    color='value'\n",
    ")"
   ]
  },
  {
   "cell_type": "code",
   "execution_count": null,
   "id": "2cc95a91",
   "metadata": {},
   "outputs": [],
   "source": []
  },
  {
   "cell_type": "code",
   "execution_count": null,
   "id": "640e09ba",
   "metadata": {},
   "outputs": [],
   "source": []
  }
 ],
 "metadata": {
  "kernelspec": {
   "display_name": "Python 3 (ipykernel)",
   "language": "python",
   "name": "python3"
  },
  "language_info": {
   "codemirror_mode": {
    "name": "ipython",
    "version": 3
   },
   "file_extension": ".py",
   "mimetype": "text/x-python",
   "name": "python",
   "nbconvert_exporter": "python",
   "pygments_lexer": "ipython3",
   "version": "3.9.13"
  }
 },
 "nbformat": 4,
 "nbformat_minor": 5
}
