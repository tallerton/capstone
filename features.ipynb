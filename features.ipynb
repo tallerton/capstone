{
 "cells": [
  {
   "cell_type": "code",
   "execution_count": 1,
   "id": "3fe6a9b0",
   "metadata": {},
   "outputs": [],
   "source": [
    "import pandas as pd\n",
    "import numpy as np\n",
    "from sklearn.decomposition import FactorAnalysis"
   ]
  },
  {
   "cell_type": "code",
   "execution_count": 2,
   "id": "11fa894c",
   "metadata": {},
   "outputs": [],
   "source": [
    "df = pd.read_pickle('cleaned_df.pkl')"
   ]
  },
  {
   "cell_type": "code",
   "execution_count": 3,
   "id": "b3a653c8",
   "metadata": {},
   "outputs": [],
   "source": [
    "# calculate percent of (self-reported i.e. by answering N/A) relevant CCMM adopted \n",
    "CCMMs = ['legum','conc','add', 'lact', 'breed', 'covman', 'comp', 'drag', 'cov', 'plough', 'solar', 'biog', 'ecodr']\n",
    "\n",
    "array = np.array(df[CCMMs])\n",
    "array = np.nan_to_num(array, nan=3)\n",
    "\n",
    "array[array>1] = 0\n",
    "\n",
    "df['CCMM_adopted_count'] = np.sum(array, axis=1).tolist()\n",
    "\n",
    "array = np.array(df[CCMMs])\n",
    "array = np.nan_to_num(array, nan=3)\n",
    "\n",
    "array[array<3] = 1\n",
    "array[array==3] = 0\n",
    "\n",
    "df['CCMM_relevant_count'] = np.sum(array, axis=1).tolist()\n",
    "\n",
    "df['CCMM_adopted_percent'] = df['CCMM_adopted_count'] / df['CCMM_relevant_count']\n",
    "del array"
   ]
  },
  {
   "cell_type": "code",
   "execution_count": 4,
   "id": "5e56bf92",
   "metadata": {},
   "outputs": [
    {
     "name": "stderr",
     "output_type": "stream",
     "text": [
      "C:\\Users\\nicho\\AppData\\Local\\Temp\\ipykernel_19328\\3404725228.py:7: RuntimeWarning: Mean of empty slice\n",
      "  df['CCMM_eff_mean'] =np.nanmean(array, axis=1).tolist()\n"
     ]
    }
   ],
   "source": [
    "# calculate the mean of the farmer's perception of the efficacy of CCMMs\n",
    "CCMM_eff = ['legum_eff','conc_eff','add_eff', 'lact_eff', 'breed_eff', 'covman_eff', 'comp_eff', \n",
    "            'drag_eff', 'cov_eff', 'plough_eff', 'solar_eff', 'biog_eff', 'ecodr_eff']\n",
    "\n",
    "array = np.array(df[CCMM_eff])\n",
    "\n",
    "df['CCMM_eff_mean'] =np.nanmean(array, axis=1).tolist()\n",
    "del array"
   ]
  },
  {
   "cell_type": "code",
   "execution_count": 5,
   "id": "0c4e8ee4",
   "metadata": {},
   "outputs": [],
   "source": [
    "# several farmers did not answer any Qs here or the data was not captured\n",
    "df['CCMM_eff_mean'].fillna(value=df['CCMM_eff_mean'].mean(), inplace=True)"
   ]
  },
  {
   "cell_type": "code",
   "execution_count": 6,
   "id": "148993d7",
   "metadata": {},
   "outputs": [],
   "source": [
    "# calculate the mean of the farmer's concerns about the impact of climate change\n",
    "Cons_lst = ['cons_general','cons_farm']\n",
    "\n",
    "array = np.array(df[Cons_lst])\n",
    "\n",
    "df['cons'] =np.nanmean(array, axis=1).tolist()\n",
    "del array"
   ]
  },
  {
   "cell_type": "code",
   "execution_count": 7,
   "id": "55e93cfc",
   "metadata": {},
   "outputs": [],
   "source": [
    "fac_anal_dict = {'non_cog':['self_reduc', 'self_act', 'self_cap', 'self_conf', 'self_not'],\n",
    "                'innov':['innov_pion', 'innov_early', 'innov_thorou', 'innov_others', 'innov_trad'],\n",
    "                'percep':['percep_hail', 'percep_drought', 'percep_frost', 'percep_heavyrain', 'percep_longrain', 'percep_heat'],\n",
    "                'soc':['soc_impr', 'soc_inc', 'soc_env', 'soc_compinc', 'soc_compenv']}\n"
   ]
  },
  {
   "cell_type": "code",
   "execution_count": 8,
   "id": "854c25e9",
   "metadata": {},
   "outputs": [],
   "source": [
    "for key, value in fac_anal_dict.items():\n",
    "    X = df[value]\n",
    "    transformer = FactorAnalysis(n_components=1, random_state=0)\n",
    "    X_transformed = transformer.fit_transform(X)\n",
    "    df[key] = X_transformed.reshape(1,50).tolist()[0]"
   ]
  },
  {
   "cell_type": "code",
   "execution_count": 9,
   "id": "0c462095",
   "metadata": {},
   "outputs": [],
   "source": [
    "df.to_pickle('prepped_df.pkl')"
   ]
  },
  {
   "cell_type": "markdown",
   "id": "da23679a",
   "metadata": {},
   "source": [
    "finito"
   ]
  }
 ],
 "metadata": {
  "kernelspec": {
   "display_name": "Python 3 (ipykernel)",
   "language": "python",
   "name": "python3"
  },
  "language_info": {
   "codemirror_mode": {
    "name": "ipython",
    "version": 3
   },
   "file_extension": ".py",
   "mimetype": "text/x-python",
   "name": "python",
   "nbconvert_exporter": "python",
   "pygments_lexer": "ipython3",
   "version": "3.9.13"
  }
 },
 "nbformat": 4,
 "nbformat_minor": 5
}
